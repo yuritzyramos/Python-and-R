{
 "cells": [
  {
   "cell_type": "markdown",
   "metadata": {},
   "source": [
    "    \n",
    "<h1 style=\"text-align: center; color: purple;\" markdown=\"1\">Econ 220: Python Assignment 4\n",
    "</h1>\n",
    "\n",
    "<h2 style=\"text-align: center; color: #012169\" markdown=\"1\">Wooldridge C4.11 (Modified) </h2>\n",
    "<h3 style=\"text-align: center; color: #012169\" markdown=\"1\">Yuritzy Ramos </h3>\n"
   ]
  },
  {
   "cell_type": "markdown",
   "metadata": {},
   "source": [
    "## Package setup"
   ]
  },
  {
   "cell_type": "code",
   "execution_count": 1,
   "metadata": {},
   "outputs": [],
   "source": [
    "# import necesarry packages\n",
    "import wooldridge as woo\n",
    "import numpy as np \n",
    "import pandas as pd\n",
    "import matplotlib.pyplot as plt\n",
    "import seaborn as sns\n",
    "import scipy.stats as stats\n",
    "import statsmodels.api  as sm\n",
    "import statsmodels.formula.api as smf\n",
    "import  statsmodels.stats.api  as sms # BP test\n",
    "from stargazer.stargazer import Stargazer\n",
    "from IPython.core.display import HTML"
   ]
  },
  {
   "cell_type": "markdown",
   "metadata": {},
   "source": [
    "Use the data in HTV to answer this question. \n",
    "\n",
    "## 1. Estimate the regression model\n",
    "\n",
    "$$ educ = \\beta_0 + \\beta_1 *motheduc + \\beta_2 *fatheduc + \\beta_3 *abil + \\beta_4 *abil^2 + u$$\n",
    "by OLS take a look at the results in the usual form but report the results using stargazer. \n",
    "\n",
    "## 2.a Test the null hypothesis that educ is linearly related to abil against the alternative that the relationship is quadratic. Show the tstat and the pvalue associated with that test. Do you reject the null hypothesis? what does that mean? EXPLAIN\n",
    "\n",
    "\n",
    "\n",
    "## 2.b Test the null hypothesis that the effect of mothereduc is bigger 0.3. "
   ]
  },
  {
   "cell_type": "code",
   "execution_count": 2,
   "metadata": {
    "scrolled": true
   },
   "outputs": [
    {
     "data": {
      "text/html": [
       "<table style=\"text-align:center\"><tr><td colspan=\"2\" style=\"border-bottom: 1px solid black\"></td></tr><tr><td style=\"text-align:left\"></td><td colspan=\"1\"><em>Dependent variable:educ</em></td></tr><tr><td style=\"text-align:left\"></td><tr><td style=\"text-align:left\"></td><td>(1)</td></tr><tr><td colspan=\"2\" style=\"border-bottom: 1px solid black\"></td></tr><tr><td style=\"text-align:left\">motheduc</td><td>0.190<sup>***</sup></td></tr><tr><td style=\"text-align:left\"></td><td>(0.028)</td></tr><tr><td style=\"text-align:left\">fatheduc</td><td>0.109<sup>***</sup></td></tr><tr><td style=\"text-align:left\"></td><td>(0.020)</td></tr><tr><td style=\"text-align:left\">abil</td><td>0.401<sup>***</sup></td></tr><tr><td style=\"text-align:left\"></td><td>(0.030)</td></tr><tr><td style=\"text-align:left\">abil2</td><td>0.051<sup>***</sup></td></tr><tr><td style=\"text-align:left\"></td><td>(0.008)</td></tr><tr><td style=\"text-align:left\">Intercept</td><td>8.240<sup>***</sup></td></tr><tr><td style=\"text-align:left\"></td><td>(0.287)</td></tr><td colspan=\"2\" style=\"border-bottom: 1px solid black\"></td></tr><tr><td style=\"text-align: left\">Observations</td><td>1,230</td></tr><tr><td style=\"text-align: left\">R<sup>2</sup></td><td>0.444</td></tr><tr><td style=\"text-align: left\">Adjusted R<sup>2</sup></td><td>0.443</td></tr><tr><td style=\"text-align: left\">Residual Std. Error</td><td>1.758 (df=1225)</td></tr><tr><td style=\"text-align: left\">F Statistic</td><td>244.906<sup>***</sup> (df=4; 1225)</td></tr><tr><td colspan=\"2\" style=\"border-bottom: 1px solid black\"></td></tr><tr><td style=\"text-align: left\">Note:</td>\n",
       " <td colspan=\"1\" style=\"text-align: right\">\n",
       "  <sup>*</sup>p&lt;0.1;\n",
       "  <sup>**</sup>p&lt;0.05;\n",
       "  <sup>***</sup>p&lt;0.01\n",
       " </td></tr></table>"
      ],
      "text/plain": [
       "<IPython.core.display.HTML object>"
      ]
     },
     "execution_count": 2,
     "metadata": {},
     "output_type": "execute_result"
    }
   ],
   "source": [
    "# to include the term ability squared you can create a separate variable \n",
    "# or even easier use the I(function) in the ols command to add the term \n",
    "htv = woo.dataWoo('htv')\n",
    "res = smf.ols('educ ~ motheduc + fatheduc + abil + I(abil ** 2)', data = htv).fit()\n",
    "res.summary()\n",
    "st=Stargazer([res])\n",
    "st.rename_covariates({'I(abil ** 2)':'abil2'})\n",
    "st.covariate_order(['motheduc','fatheduc', 'abil','I(abil ** 2)','Intercept'])\n",
    "HTML(st.render_html())\n"
   ]
  },
  {
   "cell_type": "code",
   "execution_count": 3,
   "metadata": {
    "scrolled": false
   },
   "outputs": [
    {
     "name": "stdout",
     "output_type": "stream",
     "text": [
      "T-test for linear vs quadratic relation on ability\n",
      "tstat: \n",
      "6.093400049308952\n",
      "\n",
      "pval: \n",
      "0.0\n",
      "\n",
      "T-test for mother educ > 0.3\n",
      "tstat: \n",
      "-3.9107002398209536\n",
      "\n",
      "pval: \n",
      "0.99995\n",
      "\n"
     ]
    }
   ],
   "source": [
    "# 2a Answer : We reject the null hypothesis because the \n",
    "# t-stat is statistically significant (greater than 1.96).\n",
    "# The p-value reinforces this because it is smaller than .05\n",
    "\n",
    "# manually confirm the formulas, i.e. extract coefficients and SE:\n",
    "b = res.params\n",
    "se = res.bse\n",
    "\n",
    "print(\"T-test for linear vs quadratic relation on ability\")\n",
    "# reproduce t statistic:\n",
    "tstat = b[4]/se[4]\n",
    "\n",
    "print(f'tstat: \\n{tstat}\\n')\n",
    "\n",
    "df = res.nobs-4-1\n",
    "# reproduce p value:\n",
    "pval = 2 * stats.t.cdf(-abs(tstat), df)\n",
    "\n",
    "# use the np.around() function to round array \n",
    "print(f'pval: \\n{np.around(pval,4)}\\n')\n",
    "\n",
    "print(\"T-test for mother educ > 0.3\")\n",
    "#reproduce t statistic:\n",
    "tstat_2 = (b[1]-.3)/se[1]\n",
    "\n",
    "print(f'tstat: \\n{tstat_2}\\n')\n",
    "\n",
    "# reproduce p value:\n",
    "pval_2 = 1 - stats.t.cdf(-abs(tstat_2), df)\n",
    "\n",
    "# use the np.around() function to round array \n",
    "print(f'pval: \\n{np.around(pval_2,5)}\\n')\n"
   ]
  },
  {
   "cell_type": "markdown",
   "metadata": {},
   "source": [
    "<br>\n",
    "\n",
    "## 3.  Using the equation in part (2), test $H_0: \\beta_1=\\beta_2$ against a two-sided alternative. What is the p-value of the test? \n",
    "\n",
    "Remember this requires for creating a new regression with a $\\theta_1=\\beta_1-\\beta_2$ as shown in your book and then test for $H_0: \\theta_1=0$\n",
    "\n",
    " Let's change the regression to create $\\theta_1=\\beta_1-\\beta_2$ \n",
    "\n",
    "Add and subrstact $\\beta_2 motheduc$ and create a variable $parentedu=motheduc+fatheduc$ see below: \n",
    "\n",
    "$$ educ = \\beta_0 + \\beta_1 motheduc - \\beta_2 motheduc + \\beta_2 motheduc+ \\beta_2 fatheduc + \\beta_3 abil + \\beta_4 abil^2 + u$$\n",
    "\n",
    "$$ educ = \\beta_0 + (\\beta_1 - \\beta_2)   motheduc + \\beta_2  (motheduc+fatheduc) + \\beta_3 abil + \\beta_4 abil^2 + u$$\n",
    "$$ educ = \\beta_0 + \\theta_1   motheduc + \\beta_2  (parentedu) + \\beta_3 abil + \\beta_4 abil^2 + u$$\n",
    "\n",
    "By testing the null hypothesis that $H_0:\\theta_1=0$ with $alpha=0.05$ we are testing $H_0: \\beta_1=\\beta_2$ So we just run the regression that has $\\theta_1$ as a regressor and look at the t-test for $\\theta_1$"
   ]
  },
  {
   "cell_type": "code",
   "execution_count": 4,
   "metadata": {},
   "outputs": [
    {
     "name": "stdout",
     "output_type": "stream",
     "text": [
      "critical values for alpha 5% and 1% 2 tails\n",
      "cv_t: [1.96190241 2.57984871]\n",
      "\n",
      "cv_n: [1.95996398 2.5758293 ]\n",
      "\n"
     ]
    },
    {
     "data": {
      "text/html": [
       "<table style=\"text-align:center\"><tr><td colspan=\"2\" style=\"border-bottom: 1px solid black\"></td></tr><tr><td style=\"text-align:left\"></td><td colspan=\"1\"><em>Dependent variable:educ</em></td></tr><tr><td style=\"text-align:left\"></td><tr><td style=\"text-align:left\"></td><td>(1)</td></tr><tr><td colspan=\"2\" style=\"border-bottom: 1px solid black\"></td></tr><tr><td style=\"text-align:left\">motheduc</td><td>0.081<sup>*</sup></td></tr><tr><td style=\"text-align:left\"></td><td>(0.042)</td></tr><tr><td style=\"text-align:left\">parenteduc</td><td>0.109<sup>***</sup></td></tr><tr><td style=\"text-align:left\"></td><td>(0.020)</td></tr><tr><td style=\"text-align:left\">abil</td><td>0.401<sup>***</sup></td></tr><tr><td style=\"text-align:left\"></td><td>(0.030)</td></tr><tr><td style=\"text-align:left\">abil2</td><td>0.051<sup>***</sup></td></tr><tr><td style=\"text-align:left\"></td><td>(0.008)</td></tr><tr><td style=\"text-align:left\">Intercept</td><td>8.240<sup>***</sup></td></tr><tr><td style=\"text-align:left\"></td><td>(0.287)</td></tr><td colspan=\"2\" style=\"border-bottom: 1px solid black\"></td></tr><tr><td style=\"text-align: left\">Observations</td><td>1,230</td></tr><tr><td style=\"text-align: left\">R<sup>2</sup></td><td>0.444</td></tr><tr><td style=\"text-align: left\">Adjusted R<sup>2</sup></td><td>0.443</td></tr><tr><td style=\"text-align: left\">Residual Std. Error</td><td>1.758 (df=1225)</td></tr><tr><td style=\"text-align: left\">F Statistic</td><td>244.906<sup>***</sup> (df=4; 1225)</td></tr><tr><td colspan=\"2\" style=\"border-bottom: 1px solid black\"></td></tr><tr><td style=\"text-align: left\">Note:</td>\n",
       " <td colspan=\"1\" style=\"text-align: right\">\n",
       "  <sup>*</sup>p&lt;0.1;\n",
       "  <sup>**</sup>p&lt;0.05;\n",
       "  <sup>***</sup>p&lt;0.01\n",
       " </td></tr></table>"
      ],
      "text/plain": [
       "<IPython.core.display.HTML object>"
      ]
     },
     "execution_count": 4,
     "metadata": {},
     "output_type": "execute_result"
    }
   ],
   "source": [
    "#critival Values for alpha=5% and 1%\n",
    "print(\"critical values for alpha 5% and 1% 2 tails\")\n",
    "alpha = np.array([0.05, 0.01])\n",
    "cv_t = stats.t.ppf(1 - alpha / 2, 1225)\n",
    "\n",
    "print(f'cv_t: {cv_t}\\n')\n",
    "\n",
    "# CV for alpha=5% and 1% using the normal approximation:\n",
    "cv_n = stats.norm.ppf(1 - alpha / 2)\n",
    "print(f'cv_n: {cv_n}\\n')\n",
    "\n",
    "#qt(1-alpha_2, 1225)\n",
    "\n",
    "# create parenteduc\n",
    "htv['parenteduc'] = htv['motheduc'] + htv['fatheduc']\n",
    "# regression with theta1\n",
    "res1 = smf.ols(formula = 'educ ~ motheduc + parenteduc + abil + I(abil**2)', data = htv).fit()\n",
    "st=Stargazer([res1])\n",
    "st.rename_covariates({\"I(abil ** 2)\": \"abil2\"})\n",
    "st.covariate_order(['motheduc' , 'parenteduc' , 'abil', 'I(abil ** 2)', 'Intercept'])\n",
    "HTML(st.render_html())\n",
    "\n",
    "#Calculating t-stat and p-value\n",
    "# b = res1.params\n",
    "# se = res1.bse\n",
    "# t_stat = b[1]/se[1]\n",
    "# pval = 2*stats.t.cdf(-abs(t_stat), df)\n",
    "# pval"
   ]
  },
  {
   "cell_type": "markdown",
   "metadata": {},
   "source": [
    "\n",
    "*** \n",
    "#### Complete the empty spaces\n",
    "\n",
    "The value of $\\theta_1$ is equal to .081 with a t-stat of 1.936 and a p-value of .053 this means that we fail to reject the null hypothesis that  $H_0:\\theta_1=0$ which means that $\\beta_1$ = $\\beta_2$ therefore the level of education of mother's and father's equal in magnitude. "
   ]
  },
  {
   "cell_type": "markdown",
   "metadata": {},
   "source": [
    "***\n",
    "<br>\n",
    "\n",
    "## 4. \tAdd the two college tuition variables to the regression from part (2) and determine whether they are jointly statistically significant. \n",
    "First, do the F-test step-by-step"
   ]
  },
  {
   "cell_type": "code",
   "execution_count": 5,
   "metadata": {},
   "outputs": [
    {
     "name": "stdout",
     "output_type": "stream",
     "text": [
      "r2_ur: 0.44511171101427116\n",
      "\n",
      "r2_r: 0.4443500858908753\n",
      "\n",
      "fstat: 0.8393288742998369\n",
      "\n",
      "cv: 4.622455248112427\n",
      "\n",
      "fpval: 0.4322\n",
      "\n"
     ]
    }
   ],
   "source": [
    "## F test step by step\n",
    "n = htv.shape[0]\n",
    "# Unrestricted OLS regression:  \n",
    "reg_ur = smf.ols(\n",
    "    formula='educ ~ motheduc + fatheduc + abil + I(abil ** 2) + tuit17 + tuit18',\n",
    "    data=htv)\n",
    "fit_ur = reg_ur.fit()\n",
    "r2_ur = fit_ur.rsquared\n",
    "print(f'r2_ur: {r2_ur}\\n')\n",
    "\n",
    "# Restricted OLS regression:\n",
    "\n",
    "reg_r = smf.ols(formula='educ ~ motheduc + fatheduc + abil + I(abil ** 2)', data=htv)\n",
    "fit_r = reg_r.fit()\n",
    "r2_r = fit_r.rsquared\n",
    "\n",
    "\n",
    "print(f'r2_r: {r2_r}\\n')\n",
    "\n",
    "# F statistic:\n",
    "fstat = (r2_ur - r2_r) / (1 - r2_ur) * (n - 7) / 2\n",
    "\n",
    "\n",
    "\n",
    "print(f'fstat: {fstat}\\n')\n",
    "\n",
    "# CV for alpha=1% using the F distribution with 3 and 1223 d.f. :\n",
    "cv = stats.f.ppf(1 - 0.01, 2, n)\n",
    "print(f'cv: {cv}\\n')\n",
    "\n",
    "#f-pval \n",
    "fpval = 1 - stats.f.cdf(fstat, 2,n)\n",
    "print(f'fpval: {round(fpval,4)}\\n')"
   ]
  },
  {
   "cell_type": "markdown",
   "metadata": {},
   "source": [
    "\n",
    "#### Then use any of the other methods\n"
   ]
  },
  {
   "cell_type": "code",
   "execution_count": 6,
   "metadata": {},
   "outputs": [
    {
     "data": {
      "text/plain": [
       "(0.839328874299779, 0.432249037805019, 2.0)"
      ]
     },
     "execution_count": 6,
     "metadata": {},
     "output_type": "execute_result"
    }
   ],
   "source": [
    "# F test using compare_f_test\n",
    "fit_ur.compare_f_test(fit_r)"
   ]
  },
  {
   "cell_type": "markdown",
   "metadata": {},
   "source": [
    "<br> \n",
    "This shows that in this case we **fail to reject the null hypothesis** , that the coefficients are jointly zero. "
   ]
  },
  {
   "cell_type": "markdown",
   "metadata": {},
   "source": [
    "## 5.  Use function `.conf_int()` to find the confidence intervals of all the parameters in the unsrestricted model from (4) What do you conclude? EXPLAIN this results in the light of the significance of your coeficients"
   ]
  },
  {
   "cell_type": "code",
   "execution_count": 7,
   "metadata": {},
   "outputs": [
    {
     "data": {
      "text/html": [
       "<div>\n",
       "<style scoped>\n",
       "    .dataframe tbody tr th:only-of-type {\n",
       "        vertical-align: middle;\n",
       "    }\n",
       "\n",
       "    .dataframe tbody tr th {\n",
       "        vertical-align: top;\n",
       "    }\n",
       "\n",
       "    .dataframe thead th {\n",
       "        text-align: right;\n",
       "    }\n",
       "</style>\n",
       "<table border=\"1\" class=\"dataframe\">\n",
       "  <thead>\n",
       "    <tr style=\"text-align: right;\">\n",
       "      <th></th>\n",
       "      <th>0</th>\n",
       "      <th>1</th>\n",
       "    </tr>\n",
       "  </thead>\n",
       "  <tbody>\n",
       "    <tr>\n",
       "      <th>Intercept</th>\n",
       "      <td>7.468242</td>\n",
       "      <td>8.695487</td>\n",
       "    </tr>\n",
       "    <tr>\n",
       "      <th>motheduc</th>\n",
       "      <td>0.137605</td>\n",
       "      <td>0.248180</td>\n",
       "    </tr>\n",
       "    <tr>\n",
       "      <th>fatheduc</th>\n",
       "      <td>0.069954</td>\n",
       "      <td>0.146931</td>\n",
       "    </tr>\n",
       "    <tr>\n",
       "      <th>abil</th>\n",
       "      <td>0.339500</td>\n",
       "      <td>0.458585</td>\n",
       "    </tr>\n",
       "    <tr>\n",
       "      <th>I(abil ** 2)</th>\n",
       "      <td>0.034246</td>\n",
       "      <td>0.066863</td>\n",
       "    </tr>\n",
       "    <tr>\n",
       "      <th>tuit17</th>\n",
       "      <td>-0.106866</td>\n",
       "      <td>0.138384</td>\n",
       "    </tr>\n",
       "    <tr>\n",
       "      <th>tuit18</th>\n",
       "      <td>-0.124810</td>\n",
       "      <td>0.124931</td>\n",
       "    </tr>\n",
       "  </tbody>\n",
       "</table>\n",
       "</div>"
      ],
      "text/plain": [
       "                     0         1\n",
       "Intercept     7.468242  8.695487\n",
       "motheduc      0.137605  0.248180\n",
       "fatheduc      0.069954  0.146931\n",
       "abil          0.339500  0.458585\n",
       "I(abil ** 2)  0.034246  0.066863\n",
       "tuit17       -0.106866  0.138384\n",
       "tuit18       -0.124810  0.124931"
      ]
     },
     "execution_count": 7,
     "metadata": {},
     "output_type": "execute_result"
    }
   ],
   "source": [
    "# Answer: The confidence intervals tell us the possible \n",
    "# range of values for which the p-values would be greater than .05 . \n",
    "# From these values we can conclude that our coeficients are not accurate since  \n",
    "# they fall within these ranges\n",
    "\n",
    "#find confidence intervals\n",
    "fit_ur.conf_int()\n"
   ]
  },
  {
   "cell_type": "markdown",
   "metadata": {},
   "source": [
    "&nbsp;\n",
    "<hr />\n",
    "<p style=\"font-family:palatino; text-align: center;font-size: 15px\">ECON220 Python Programming Laboratory</a></p>\n",
    "<p style=\"font-family:palatino; text-align: center;font-size: 15px\">Professor <em> Paloma Lopez de mesa Moyano</em></a></p>\n",
    "<p style=\"font-family:palatino; text-align: center;font-size: 15px\"><span style=\"color: #6666FF;\"><em>paloma.moyano@emory.edu</em></span></p>\n",
    "\n",
    "<p style=\"font-family:palatino; text-align: center;font-size: 15px\">Department of Economics</a></p>\n",
    "<p style=\"font-family:palatino; text-align: center; color: #012169;font-size: 15px\">Emory University</a></p>\n",
    "\n",
    "&nbsp;"
   ]
  }
 ],
 "metadata": {
  "hide_input": false,
  "kernelspec": {
   "display_name": "Python 3",
   "language": "python",
   "name": "python3"
  },
  "language_info": {
   "codemirror_mode": {
    "name": "ipython",
    "version": 3
   },
   "file_extension": ".py",
   "mimetype": "text/x-python",
   "name": "python",
   "nbconvert_exporter": "python",
   "pygments_lexer": "ipython3",
   "version": "3.8.5"
  },
  "varInspector": {
   "cols": {
    "lenName": 16,
    "lenType": 16,
    "lenVar": 40
   },
   "kernels_config": {
    "python": {
     "delete_cmd_postfix": "",
     "delete_cmd_prefix": "del ",
     "library": "var_list.py",
     "varRefreshCmd": "print(var_dic_list())"
    },
    "r": {
     "delete_cmd_postfix": ") ",
     "delete_cmd_prefix": "rm(",
     "library": "var_list.r",
     "varRefreshCmd": "cat(var_dic_list()) "
    }
   },
   "types_to_exclude": [
    "module",
    "function",
    "builtin_function_or_method",
    "instance",
    "_Feature"
   ],
   "window_display": false
  }
 },
 "nbformat": 4,
 "nbformat_minor": 4
}
